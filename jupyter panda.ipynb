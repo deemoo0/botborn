{
 "cells": [
  {
   "cell_type": "code",
   "execution_count": 1,
   "metadata": {},
   "outputs": [],
   "source": [
    "import pandas as pd"
   ]
  },
  {
   "cell_type": "code",
   "execution_count": 2,
   "metadata": {},
   "outputs": [],
   "source": [
    "df=pd.read_csv(\"C:/Users/Administrator/Downloads/Indian_Kids_Screen_Time.csv\")"
   ]
  },
  {
   "cell_type": "code",
   "execution_count": 3,
   "metadata": {},
   "outputs": [
    {
     "name": "stdout",
     "output_type": "stream",
     "text": [
      "   Age  Gender  Avg_Daily_Screen_Time_hr Primary_Device  \\\n",
      "0   14    Male                      3.99     Smartphone   \n",
      "1   11  Female                      4.61         Laptop   \n",
      "2   18  Female                      3.73             TV   \n",
      "3   15  Female                      1.21         Laptop   \n",
      "4   12  Female                      5.89     Smartphone   \n",
      "\n",
      "   Exceeded_Recommended_Limit  Educational_to_Recreational_Ratio  \\\n",
      "0                        True                               0.42   \n",
      "1                        True                               0.30   \n",
      "2                        True                               0.32   \n",
      "3                       False                               0.39   \n",
      "4                        True                               0.49   \n",
      "\n",
      "           Health_Impacts Urban_or_Rural  \n",
      "0  Poor Sleep, Eye Strain          Urban  \n",
      "1              Poor Sleep          Urban  \n",
      "2              Poor Sleep          Urban  \n",
      "3                     NaN          Urban  \n",
      "4     Poor Sleep, Anxiety          Urban  \n"
     ]
    }
   ],
   "source": [
    "print(df.head())"
   ]
  },
  {
   "cell_type": "code",
   "execution_count": 4,
   "metadata": {},
   "outputs": [
    {
     "name": "stdout",
     "output_type": "stream",
     "text": [
      "<class 'pandas.core.frame.DataFrame'>\n",
      "RangeIndex: 9712 entries, 0 to 9711\n",
      "Data columns (total 8 columns):\n",
      " #   Column                             Non-Null Count  Dtype  \n",
      "---  ------                             --------------  -----  \n",
      " 0   Age                                9712 non-null   int64  \n",
      " 1   Gender                             9712 non-null   object \n",
      " 2   Avg_Daily_Screen_Time_hr           9712 non-null   float64\n",
      " 3   Primary_Device                     9712 non-null   object \n",
      " 4   Exceeded_Recommended_Limit         9712 non-null   bool   \n",
      " 5   Educational_to_Recreational_Ratio  9712 non-null   float64\n",
      " 6   Health_Impacts                     6494 non-null   object \n",
      " 7   Urban_or_Rural                     9712 non-null   object \n",
      "dtypes: bool(1), float64(2), int64(1), object(4)\n",
      "memory usage: 540.7+ KB\n",
      "None\n"
     ]
    }
   ],
   "source": [
    "print(df.info())"
   ]
  },
  {
   "cell_type": "code",
   "execution_count": 5,
   "metadata": {},
   "outputs": [
    {
     "name": "stdout",
     "output_type": "stream",
     "text": [
      "               Age  Avg_Daily_Screen_Time_hr  \\\n",
      "count  9712.000000               9712.000000   \n",
      "mean     12.979201                  4.352837   \n",
      "std       3.162437                  1.718232   \n",
      "min       8.000000                  0.000000   \n",
      "25%      10.000000                  3.410000   \n",
      "50%      13.000000                  4.440000   \n",
      "75%      16.000000                  5.380000   \n",
      "max      18.000000                 13.890000   \n",
      "\n",
      "       Educational_to_Recreational_Ratio  \n",
      "count                        9712.000000  \n",
      "mean                            0.427226  \n",
      "std                             0.073221  \n",
      "min                             0.300000  \n",
      "25%                             0.370000  \n",
      "50%                             0.430000  \n",
      "75%                             0.480000  \n",
      "max                             0.600000  \n"
     ]
    }
   ],
   "source": [
    "print(df.describe())\n"
   ]
  },
  {
   "cell_type": "code",
   "execution_count": 10,
   "metadata": {},
   "outputs": [
    {
     "name": "stdout",
     "output_type": "stream",
     "text": [
      "0       14\n",
      "1       11\n",
      "2       18\n",
      "3       15\n",
      "4       12\n",
      "        ..\n",
      "9707    17\n",
      "9708    17\n",
      "9709    16\n",
      "9710    17\n",
      "9711    15\n",
      "Name: Age, Length: 9712, dtype: int64\n"
     ]
    }
   ],
   "source": [
    "print(df['Age'])"
   ]
  },
  {
   "cell_type": "code",
   "execution_count": 14,
   "metadata": {},
   "outputs": [
    {
     "data": {
      "text/plain": [
       "Age                                     0\n",
       "Gender                                  0\n",
       "Avg_Daily_Screen_Time_hr                0\n",
       "Primary_Device                          0\n",
       "Exceeded_Recommended_Limit              0\n",
       "Educational_to_Recreational_Ratio       0\n",
       "Health_Impacts                       3218\n",
       "Urban_or_Rural                          0\n",
       "dtype: int64"
      ]
     },
     "execution_count": 14,
     "metadata": {},
     "output_type": "execute_result"
    }
   ],
   "source": [
    "df.isnull().sum()"
   ]
  },
  {
   "cell_type": "code",
   "execution_count": 15,
   "metadata": {},
   "outputs": [
    {
     "name": "stderr",
     "output_type": "stream",
     "text": [
      "C:\\Users\\Administrator\\AppData\\Local\\Temp\\ipykernel_1980\\3398693881.py:1: FutureWarning: A value is trying to be set on a copy of a DataFrame or Series through chained assignment using an inplace method.\n",
      "The behavior will change in pandas 3.0. This inplace method will never work because the intermediate object on which we are setting values always behaves as a copy.\n",
      "\n",
      "For example, when doing 'df[col].method(value, inplace=True)', try using 'df.method({col: value}, inplace=True)' or df[col] = df[col].method(value) instead, to perform the operation inplace on the original object.\n",
      "\n",
      "\n",
      "  df['Health_Impacts'].fillna('No Issues', inplace=True)\n"
     ]
    }
   ],
   "source": [
    "df['Health_Impacts'].fillna('No Issues', inplace=True)"
   ]
  },
  {
   "cell_type": "code",
   "execution_count": 16,
   "metadata": {},
   "outputs": [
    {
     "data": {
      "text/plain": [
       "Age                                  0\n",
       "Gender                               0\n",
       "Avg_Daily_Screen_Time_hr             0\n",
       "Primary_Device                       0\n",
       "Exceeded_Recommended_Limit           0\n",
       "Educational_to_Recreational_Ratio    0\n",
       "Health_Impacts                       0\n",
       "Urban_or_Rural                       0\n",
       "dtype: int64"
      ]
     },
     "execution_count": 16,
     "metadata": {},
     "output_type": "execute_result"
    }
   ],
   "source": [
    "df.isnull().sum()\n"
   ]
  },
  {
   "cell_type": "code",
   "execution_count": 17,
   "metadata": {},
   "outputs": [
    {
     "data": {
      "text/plain": [
       "Exceeded_Recommended_Limit\n",
       "True     8301\n",
       "False    1411\n",
       "Name: count, dtype: int64"
      ]
     },
     "execution_count": 17,
     "metadata": {},
     "output_type": "execute_result"
    }
   ],
   "source": [
    "df['Exceeded_Recommended_Limit'].value_counts()"
   ]
  },
  {
   "cell_type": "code",
   "execution_count": 18,
   "metadata": {},
   "outputs": [
    {
     "data": {
      "text/plain": [
       "Gender\n",
       "Female    4.327021\n",
       "Male      4.377754\n",
       "Name: Avg_Daily_Screen_Time_hr, dtype: float64"
      ]
     },
     "execution_count": 18,
     "metadata": {},
     "output_type": "execute_result"
    }
   ],
   "source": [
    "df.groupby('Gender')['Avg_Daily_Screen_Time_hr'].mean()"
   ]
  },
  {
   "cell_type": "code",
   "execution_count": 20,
   "metadata": {},
   "outputs": [
    {
     "data": {
      "text/plain": [
       "4568"
      ]
     },
     "execution_count": 20,
     "metadata": {},
     "output_type": "execute_result"
    }
   ],
   "source": [
    "smartphone_users = df[df['Primary_Device'] == 'Smartphone']\n",
    "len(smartphone_users)\n"
   ]
  },
  {
   "cell_type": "code",
   "execution_count": 21,
   "metadata": {},
   "outputs": [],
   "source": [
    "poor_sleep_students = df[df['Health_Impacts'].str.contains(\"Poor Sleep\", na=False)]"
   ]
  },
  {
   "cell_type": "code",
   "execution_count": 22,
   "metadata": {},
   "outputs": [
    {
     "data": {
      "text/plain": [
       "4868"
      ]
     },
     "execution_count": 22,
     "metadata": {},
     "output_type": "execute_result"
    }
   ],
   "source": [
    "len(poor_sleep_students)"
   ]
  },
  {
   "cell_type": "code",
   "execution_count": 23,
   "metadata": {},
   "outputs": [
    {
     "data": {
      "text/plain": [
       "Health_Impacts\n",
       "No Issues                                        3218\n",
       "Poor Sleep                                       2268\n",
       "Poor Sleep, Eye Strain                            979\n",
       "Eye Strain                                        644\n",
       "Poor Sleep, Anxiety                               608\n",
       "Poor Sleep, Obesity Risk                          452\n",
       "Anxiety                                           385\n",
       "Poor Sleep, Eye Strain, Anxiety                   258\n",
       "Obesity Risk                                      252\n",
       "Poor Sleep, Eye Strain, Obesity Risk              188\n",
       "Eye Strain, Anxiety                               135\n",
       "Eye Strain, Obesity Risk                          106\n",
       "Poor Sleep, Anxiety, Obesity Risk                  78\n",
       "Anxiety, Obesity Risk                              69\n",
       "Poor Sleep, Eye Strain, Anxiety, Obesity Risk      37\n",
       "Eye Strain, Anxiety, Obesity Risk                  35\n",
       "Name: count, dtype: int64"
      ]
     },
     "execution_count": 23,
     "metadata": {},
     "output_type": "execute_result"
    }
   ],
   "source": [
    "df['Health_Impacts'].value_counts()\n"
   ]
  },
  {
   "cell_type": "code",
   "execution_count": 24,
   "metadata": {},
   "outputs": [],
   "source": [
    "sorted_df = df.sort_values(by='Avg_Daily_Screen_Time_hr', ascending=False)"
   ]
  },
  {
   "cell_type": "code",
   "execution_count": null,
   "metadata": {},
   "outputs": [],
   "source": [
    "sorted_df.head()\n"
   ]
  },
  {
   "cell_type": "code",
   "execution_count": null,
   "metadata": {},
   "outputs": [],
   "source": [
    "df.sort_values(by='Avg_Daily_Screen_Time_hr', ascending=True).head()\n"
   ]
  },
  {
   "cell_type": "code",
   "execution_count": null,
   "metadata": {},
   "outputs": [],
   "source": [
    "def label_time(x):\n",
    "    if x < 2:\n",
    "        return \"Low\"\n",
    "    elif x <= 4:\n",
    "        return \"Medium\"\n",
    "    else:\n",
    "        return \"High\"\n",
    "\n",
    "df['Screen_Time_Category'] = df['Avg_Daily_Screen_Time_hr'].apply(label_time)\n"
   ]
  },
  {
   "cell_type": "code",
   "execution_count": null,
   "metadata": {},
   "outputs": [],
   "source": [
    "df['Screen_Time_Category'].value_counts()\n"
   ]
  },
  {
   "cell_type": "code",
   "execution_count": null,
   "metadata": {},
   "outputs": [],
   "source": [
    "df['Urban_or_Rural'].value_counts()\n"
   ]
  },
  {
   "cell_type": "code",
   "execution_count": null,
   "metadata": {},
   "outputs": [],
   "source": [
    "df[['Age', 'Gender', 'Avg_Daily_Screen_Time_hr', 'Screen_Time_Category']].to_csv(\"summary_data.csv\", index=False)"
   ]
  }
 ],
 "metadata": {
  "kernelspec": {
   "display_name": "Python 3",
   "language": "python",
   "name": "python3"
  },
  "language_info": {
   "codemirror_mode": {
    "name": "ipython",
    "version": 3
   },
   "file_extension": ".py",
   "mimetype": "text/x-python",
   "name": "python",
   "nbconvert_exporter": "python",
   "pygments_lexer": "ipython3",
   "version": "3.13.1"
  }
 },
 "nbformat": 4,
 "nbformat_minor": 2
}
